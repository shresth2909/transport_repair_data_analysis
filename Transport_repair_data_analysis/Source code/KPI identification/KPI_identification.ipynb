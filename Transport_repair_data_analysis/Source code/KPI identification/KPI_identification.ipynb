{
 "cells": [
  {
   "cell_type": "code",
   "execution_count": null,
   "id": "980a6102",
   "metadata": {},
   "outputs": [],
   "source": [
    "# Cell 1: Import Necessary Libraries\n",
    "import pandas as pd\n",
    "import numpy as np\n",
    "import matplotlib.pyplot as plt\n",
    "import seaborn as sns\n",
    "\n",
    "# Load cleaned dataset\n",
    "file_path = 'F:\\Mytraining\\DataAnalystBootcamp\\Python\\Data analysis with python\\Axion Ray- Assesement\\DATask 2.csv'\n",
    "df = pd.read_csv(file_path)\n"
   ]
  },
  {
   "cell_type": "code",
   "execution_count": null,
   "id": "6cea84b2",
   "metadata": {},
   "outputs": [],
   "source": [
    "# Cell 2: Convert REPAIR_DATE to datetime format\n",
    "df['REPAIR_DATE'] = pd.to_datetime(df['REPAIR_DATE'])\n"
   ]
  },
  {
   "cell_type": "code",
   "execution_count": null,
   "id": "e82941cb",
   "metadata": {},
   "outputs": [],
   "source": [
    "# Cell 3: Monthly Repair Trends Extraction\n",
    "df['Month_Year'] = df['REPAIR_DATE'].dt.to_period('M')\n",
    "monthly_repairs = df.groupby('Month_Year').size().reset_index(name='Repair_Count')\n",
    "\n",
    "# Display Monthly Repair Trends\n",
    "print(\"Monthly Repair Trends:\")\n",
    "print(monthly_repairs.head())\n"
   ]
  },
  {
   "cell_type": "code",
   "execution_count": null,
   "id": "58658b74",
   "metadata": {},
   "outputs": [],
   "source": [
    "# Cell 4: Most Common Repair Types Extraction\n",
    "repair_counts = df['GLOBAL_LABOR_CODE_DESCRIPTION'].value_counts().reset_index()\n",
    "repair_counts.columns = ['Repair_Type', 'Count']\n",
    "\n",
    "# Display Top 10 Repair Types\n",
    "print(\"\\nTop 10 Most Common Repair Types:\")\n",
    "print(repair_counts.head(10))\n"
   ]
  },
  {
   "cell_type": "code",
   "execution_count": null,
   "id": "ec92d843",
   "metadata": {},
   "outputs": [],
   "source": [
    "# Cell 5: Platform-Based Repairs Extraction\n",
    "platform_repairs = df['PLATFORM'].value_counts().reset_index()\n",
    "platform_repairs.columns = ['Platform', 'Repair_Count']\n",
    "\n",
    "# Display Repair Counts by Platform\n",
    "print(\"\\nRepair Counts by Platform:\")\n",
    "print(platform_repairs)\n"
   ]
  },
  {
   "cell_type": "code",
   "execution_count": null,
   "id": "c3576392",
   "metadata": {},
   "outputs": [],
   "source": [
    "# Cell 6: Repair Age Analysis\n",
    "repair_age_summary = df['REPAIR_AGE'].describe()\n",
    "\n",
    "# Display Repair Age Statistics\n",
    "print(\"\\nRepair Age Summary:\")\n",
    "print(repair_age_summary)\n"
   ]
  },
  {
   "cell_type": "code",
   "execution_count": null,
   "id": "d001197e",
   "metadata": {},
   "outputs": [],
   "source": [
    "# Cell 7: Total Repair Cost Analysis\n",
    "total_cost_summary = df['TOTALCOST'].describe()\n",
    "\n",
    "# Display Total Cost Statistics\n",
    "print(\"\\nRepair Cost Summary:\")\n",
    "print(total_cost_summary)\n"
   ]
  },
  {
   "cell_type": "code",
   "execution_count": null,
   "id": "b4d30006",
   "metadata": {},
   "outputs": [],
   "source": [
    "# Cell 8: Visualization - Monthly Repair Trends\n",
    "sns.set(style=\"whitegrid\")\n",
    "plt.figure(figsize=(15, 10))\n",
    "\n",
    "plt.subplot(2, 2, 1)\n",
    "monthly_repairs.plot(x='Month_Year', y='Repair_Count', kind='bar', color='blue')\n",
    "plt.title('Monthly Repair Trends')\n",
    "plt.xlabel('Month-Year')\n",
    "plt.ylabel('Number of Repairs')\n",
    "plt.xticks(rotation=45)\n"
   ]
  },
  {
   "cell_type": "code",
   "execution_count": null,
   "id": "ec7d526b",
   "metadata": {},
   "outputs": [],
   "source": [
    "# Cell 9: Visualization - Top Repair Types\n",
    "plt.subplot(2, 2, 2)\n",
    "sns.barplot(x='Count', y='Repair_Type', data=repair_counts.head(10), palette='Oranges_r')\n",
    "plt.title('Top 10 Most Common Repair Types')\n",
    "plt.xlabel('Repair Count')\n",
    "plt.ylabel('Repair Type')\n"
   ]
  },
  {
   "cell_type": "code",
   "execution_count": null,
   "id": "c930eab5",
   "metadata": {},
   "outputs": [],
   "source": [
    "# Cell 10: Visualization - Platform-Based Repair Distribution\n",
    "plt.subplot(2, 1, 2)\n",
    "sns.barplot(x='Platform', y='Repair_Count', data=platform_repairs, palette='coolwarm')\n",
    "plt.title('Repairs by Vehicle Platform')\n",
    "plt.xlabel('Platform')\n",
    "plt.ylabel('Number of Repairs')\n",
    "plt.xticks(rotation=45)\n",
    "\n",
    "plt.tight_layout()\n",
    "plt.savefig('KPI_Analysis.png', dpi=300)\n",
    "plt.show()\n"
   ]
  },
  {
   "cell_type": "code",
   "execution_count": null,
   "id": "e05a2b44",
   "metadata": {},
   "outputs": [],
   "source": [
    "# Cell 11: Save KPI Extracted Data into CSV files\n",
    "kpi_summary_file = 'KPI_Summary.csv'\n",
    "monthly_repairs.to_csv(kpi_summary_file, index=False)\n",
    "repair_counts.to_csv('Top_Repairs.csv', index=False)\n",
    "platform_repairs.to_csv('Platform_Repairs.csv', index=False)\n",
    "\n",
    "print(f\"\\nKPI Summary data saved to {kpi_summary_file}\")\n"
   ]
  }
 ],
 "metadata": {
  "language_info": {
   "name": "python"
  }
 },
 "nbformat": 4,
 "nbformat_minor": 5
}
